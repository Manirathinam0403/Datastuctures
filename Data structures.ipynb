{
 "cells": [
  {
   "cell_type": "markdown",
   "id": "a9bfc6c1",
   "metadata": {},
   "source": [
    "# Single linked list"
   ]
  },
  {
   "cell_type": "code",
   "execution_count": null,
   "id": "f7e117d9",
   "metadata": {},
   "outputs": [],
   "source": [
    "class Node:\n",
    "    def __init__(self,data):\n",
    "        self.data = data\n",
    "        self.link = None\n",
    "class SLL:\n",
    "    def __init__(self):\n",
    "        self.root = None\n",
    "    def insert(self,data):\n",
    "        n = Node(data)\n",
    "        if self.root is None:\n",
    "            self.root = n\n",
    "        else:\n",
    "            temp = self.root\n",
    "            while temp.link:\n",
    "                temp = temp.link\n",
    "            temp.link = n\n",
    "    def insert1(self,data):\n",
    "        n = Node(data)\n",
    "        if self.root is None:\n",
    "            print(\"Empty\")\n",
    "        else:\n",
    "            n.link = self.root\n",
    "            self.root = n\n",
    "    def insertn(self,data,pos):\n",
    "        n = Node(data)\n",
    "        if self.root is None:\n",
    "            print(\"Empty\")\n",
    "        else:\n",
    "            temp = self.root\n",
    "            count = 1\n",
    "            while count !=pos-1:\n",
    "                count = count + 1\n",
    "                temp = temp.link\n",
    "            n.link = temp.link\n",
    "            temp.link = n\n",
    "    def display(self):\n",
    "        if self.root is None:\n",
    "            print(\"Empty\")\n",
    "        else:\n",
    "            temp = self.root\n",
    "            while temp:\n",
    "                print(temp.data,\" \",end=\"\")\n",
    "                temp = temp.link\n",
    "    def delete(self,pos):\n",
    "        if self.root is None:\n",
    "            print(\"Empty\")\n",
    "        else:\n",
    "            count = 1\n",
    "            temp = self.root\n",
    "            while count != pos-1:\n",
    "                count = count +1\n",
    "                temp = temp.link\n",
    "            t = temp.link\n",
    "            temp.link = temp.link.link\n",
    "            t.link = None\n",
    "    def reverse(self):\n",
    "        if self.root is None:\n",
    "            print(\"Empty\")\n",
    "        else:\n",
    "            pre = None\n",
    "            cur = self.root\n",
    "            nex = self.root\n",
    "            while nex:\n",
    "                nex = nex.link\n",
    "                cur.link = pre\n",
    "                pre = cur\n",
    "                cur = nex\n",
    "            self.root = pre"
   ]
  },
  {
   "cell_type": "code",
   "execution_count": 57,
   "id": "d7486960",
   "metadata": {},
   "outputs": [],
   "source": [
    "s = SLL()"
   ]
  },
  {
   "cell_type": "code",
   "execution_count": 58,
   "id": "6446df63",
   "metadata": {},
   "outputs": [
    {
     "name": "stdout",
     "output_type": "stream",
     "text": [
      "Empty\n"
     ]
    }
   ],
   "source": [
    "s.display()"
   ]
  },
  {
   "cell_type": "code",
   "execution_count": 59,
   "id": "d5725e31",
   "metadata": {},
   "outputs": [],
   "source": [
    "s.insert(1)\n",
    "s.insert(2)\n",
    "s.insert(3)\n",
    "s.insert(4)\n",
    "s.insert(5)"
   ]
  },
  {
   "cell_type": "code",
   "execution_count": 60,
   "id": "add68b53",
   "metadata": {},
   "outputs": [
    {
     "name": "stdout",
     "output_type": "stream",
     "text": [
      "1  2  3  4  5  "
     ]
    }
   ],
   "source": [
    "s.display()"
   ]
  },
  {
   "cell_type": "code",
   "execution_count": 61,
   "id": "e43d14b6",
   "metadata": {},
   "outputs": [],
   "source": [
    "s.insert1(0.5)"
   ]
  },
  {
   "cell_type": "code",
   "execution_count": 62,
   "id": "c70e9426",
   "metadata": {},
   "outputs": [
    {
     "name": "stdout",
     "output_type": "stream",
     "text": [
      "0.5  1  2  3  4  5  "
     ]
    }
   ],
   "source": [
    "s.display()"
   ]
  },
  {
   "cell_type": "code",
   "execution_count": 63,
   "id": "02d7d6ce",
   "metadata": {},
   "outputs": [],
   "source": [
    "s.insertn(2.5,4)"
   ]
  },
  {
   "cell_type": "code",
   "execution_count": 64,
   "id": "4aeacb65",
   "metadata": {},
   "outputs": [
    {
     "name": "stdout",
     "output_type": "stream",
     "text": [
      "0.5  1  2  2.5  3  4  5  "
     ]
    }
   ],
   "source": [
    "s.display()"
   ]
  },
  {
   "cell_type": "code",
   "execution_count": 65,
   "id": "96c0f5f3",
   "metadata": {},
   "outputs": [],
   "source": [
    "s.delete(4)"
   ]
  },
  {
   "cell_type": "code",
   "execution_count": 66,
   "id": "7d4edb4d",
   "metadata": {},
   "outputs": [
    {
     "name": "stdout",
     "output_type": "stream",
     "text": [
      "0.5  1  2  3  4  5  "
     ]
    }
   ],
   "source": [
    "s.display()"
   ]
  },
  {
   "cell_type": "code",
   "execution_count": 67,
   "id": "8a2ab1ae",
   "metadata": {},
   "outputs": [],
   "source": [
    "s.reverse()"
   ]
  },
  {
   "cell_type": "code",
   "execution_count": 68,
   "id": "efc636a2",
   "metadata": {},
   "outputs": [
    {
     "name": "stdout",
     "output_type": "stream",
     "text": [
      "5  4  3  2  1  0.5  "
     ]
    }
   ],
   "source": [
    "s.display()"
   ]
  },
  {
   "cell_type": "markdown",
   "id": "22268796",
   "metadata": {},
   "source": [
    "# stack"
   ]
  },
  {
   "cell_type": "markdown",
   "id": "a55ea0b7",
   "metadata": {},
   "source": [
    "# using array"
   ]
  },
  {
   "cell_type": "code",
   "execution_count": 88,
   "id": "df576b3d",
   "metadata": {},
   "outputs": [],
   "source": [
    "lst = []\n",
    "n = 5"
   ]
  },
  {
   "cell_type": "code",
   "execution_count": 89,
   "id": "2340b2dd",
   "metadata": {},
   "outputs": [],
   "source": [
    "def push(data):\n",
    "    if len(lst) == n:\n",
    "        print(\"overflow\")\n",
    "    else:\n",
    "        lst.append(data)\n",
    "def pop():\n",
    "    if len(lst) == 0:\n",
    "        print(\"underflow\")\n",
    "    else:\n",
    "        lst.pop()\n",
    "def peek():\n",
    "    if len(lst) == 0:\n",
    "        print(\"empty\")\n",
    "    else:\n",
    "        print(lst[-1])\n",
    "def display():\n",
    "    if len(lst) == 0:\n",
    "        print(\"empty\")\n",
    "    else:\n",
    "        for i in lst[::-1]:\n",
    "            print(i)"
   ]
  },
  {
   "cell_type": "code",
   "execution_count": 90,
   "id": "2a8726fc",
   "metadata": {},
   "outputs": [],
   "source": [
    "push(1)\n",
    "push(2)\n",
    "push(3)\n"
   ]
  },
  {
   "cell_type": "code",
   "execution_count": 91,
   "id": "d41db160",
   "metadata": {},
   "outputs": [
    {
     "name": "stdout",
     "output_type": "stream",
     "text": [
      "3\n",
      "2\n",
      "1\n"
     ]
    }
   ],
   "source": [
    "display()"
   ]
  },
  {
   "cell_type": "code",
   "execution_count": 92,
   "id": "cad3e506",
   "metadata": {},
   "outputs": [],
   "source": [
    "push(4)\n",
    "push(5)"
   ]
  },
  {
   "cell_type": "code",
   "execution_count": 93,
   "id": "b37e1767",
   "metadata": {},
   "outputs": [
    {
     "name": "stdout",
     "output_type": "stream",
     "text": [
      "5\n",
      "4\n",
      "3\n",
      "2\n",
      "1\n"
     ]
    }
   ],
   "source": [
    "display()"
   ]
  },
  {
   "cell_type": "code",
   "execution_count": 94,
   "id": "d49e6e6e",
   "metadata": {},
   "outputs": [
    {
     "name": "stdout",
     "output_type": "stream",
     "text": [
      "overflow\n"
     ]
    }
   ],
   "source": [
    "push(6)"
   ]
  },
  {
   "cell_type": "code",
   "execution_count": 95,
   "id": "b9dc7f28",
   "metadata": {},
   "outputs": [],
   "source": [
    "pop()"
   ]
  },
  {
   "cell_type": "code",
   "execution_count": 96,
   "id": "a42f0fef",
   "metadata": {},
   "outputs": [
    {
     "name": "stdout",
     "output_type": "stream",
     "text": [
      "4\n",
      "3\n",
      "2\n",
      "1\n"
     ]
    }
   ],
   "source": [
    "display()"
   ]
  },
  {
   "cell_type": "code",
   "execution_count": 97,
   "id": "eae6236b",
   "metadata": {},
   "outputs": [
    {
     "name": "stdout",
     "output_type": "stream",
     "text": [
      "4\n"
     ]
    }
   ],
   "source": [
    "peek()"
   ]
  },
  {
   "cell_type": "markdown",
   "id": "2bdbd26d",
   "metadata": {},
   "source": [
    "# using linked list"
   ]
  },
  {
   "cell_type": "code",
   "execution_count": 116,
   "id": "123f2cc5",
   "metadata": {},
   "outputs": [],
   "source": [
    "class Node:\n",
    "    def __init__(self,data):\n",
    "        self.data = data\n",
    "        self.link = None\n",
    "class Stack:\n",
    "    def __init__(self):\n",
    "        self.top = None\n",
    "    def push(self,data):\n",
    "        n = Node(data)\n",
    "        if self.top is None:\n",
    "            self.top = n\n",
    "        else:\n",
    "            temp = self.top\n",
    "            n.link = temp\n",
    "            self.top = n\n",
    "    def display(self):\n",
    "        if self.top is None:\n",
    "            print(\"Empty\")\n",
    "        else:\n",
    "            temp = self.top\n",
    "            while temp :\n",
    "                print(temp.data)\n",
    "                temp = temp.link\n",
    "    def pop(self):\n",
    "        if self.top is None:\n",
    "            print(\"Empty\")\n",
    "        else:\n",
    "            temp = self.top\n",
    "            self.top = temp.link\n",
    "            temp.link = None\n",
    "    def peek(self):\n",
    "        if self.top is None:\n",
    "            print(\"Empty\")\n",
    "        else:\n",
    "            print(self.top.data)\n",
    "            \n",
    "            "
   ]
  },
  {
   "cell_type": "code",
   "execution_count": 117,
   "id": "47f91ac5",
   "metadata": {},
   "outputs": [],
   "source": [
    "s = Stack()"
   ]
  },
  {
   "cell_type": "code",
   "execution_count": 118,
   "id": "43876327",
   "metadata": {},
   "outputs": [],
   "source": [
    "s.push(1)\n",
    "s.push(2)\n",
    "s.push(3)\n",
    "s.push(4)\n",
    "s.push(5)"
   ]
  },
  {
   "cell_type": "code",
   "execution_count": 119,
   "id": "295fbd71",
   "metadata": {},
   "outputs": [
    {
     "name": "stdout",
     "output_type": "stream",
     "text": [
      "5\n",
      "4\n",
      "3\n",
      "2\n",
      "1\n"
     ]
    }
   ],
   "source": [
    "s.display()"
   ]
  },
  {
   "cell_type": "code",
   "execution_count": 120,
   "id": "12038b8c",
   "metadata": {},
   "outputs": [],
   "source": [
    "s.pop()"
   ]
  },
  {
   "cell_type": "code",
   "execution_count": 121,
   "id": "8972e17d",
   "metadata": {},
   "outputs": [
    {
     "name": "stdout",
     "output_type": "stream",
     "text": [
      "4\n",
      "3\n",
      "2\n",
      "1\n"
     ]
    }
   ],
   "source": [
    "s.display()"
   ]
  },
  {
   "cell_type": "code",
   "execution_count": 122,
   "id": "7ef8c362",
   "metadata": {},
   "outputs": [
    {
     "name": "stdout",
     "output_type": "stream",
     "text": [
      "4\n"
     ]
    }
   ],
   "source": [
    "s.peek()"
   ]
  },
  {
   "cell_type": "markdown",
   "id": "1f592305",
   "metadata": {},
   "source": [
    "# queue"
   ]
  },
  {
   "cell_type": "markdown",
   "id": "150d0f9e",
   "metadata": {},
   "source": [
    "# using arrays"
   ]
  },
  {
   "cell_type": "code",
   "execution_count": 124,
   "id": "f51465e6",
   "metadata": {},
   "outputs": [],
   "source": [
    "lst = []\n",
    "n = 5"
   ]
  },
  {
   "cell_type": "code",
   "execution_count": 125,
   "id": "ed65b9b7",
   "metadata": {},
   "outputs": [],
   "source": [
    "def enqueue(data):\n",
    "    if len(lst) == n:\n",
    "        print(\"cannot insert\")\n",
    "    else:\n",
    "        lst.append(data)\n",
    "def dequeue():\n",
    "    if len(lst) == 0:\n",
    "        print(\"cannot delete\")\n",
    "    else:\n",
    "        lst.pop(0)\n",
    "def front():\n",
    "    if len(lst) == 0:\n",
    "        print(\"not front element\")\n",
    "    else:\n",
    "        print(lst[0])\n",
    "def display():\n",
    "    if len(lst) == 0:\n",
    "        print(\"Empty\")\n",
    "    else:\n",
    "        for i in lst:\n",
    "            print(i,\" \",end=\"\")"
   ]
  },
  {
   "cell_type": "code",
   "execution_count": 126,
   "id": "bf130cb0",
   "metadata": {},
   "outputs": [],
   "source": [
    "enqueue(1)\n",
    "enqueue(2)\n",
    "enqueue(3)\n",
    "enqueue(4)\n",
    "enqueue(5)"
   ]
  },
  {
   "cell_type": "code",
   "execution_count": 127,
   "id": "9871713f",
   "metadata": {},
   "outputs": [
    {
     "name": "stdout",
     "output_type": "stream",
     "text": [
      "1  2  3  4  5  "
     ]
    }
   ],
   "source": [
    "display()"
   ]
  },
  {
   "cell_type": "code",
   "execution_count": 128,
   "id": "7616a6c7",
   "metadata": {},
   "outputs": [
    {
     "name": "stdout",
     "output_type": "stream",
     "text": [
      "1\n"
     ]
    }
   ],
   "source": [
    "front()"
   ]
  },
  {
   "cell_type": "code",
   "execution_count": 129,
   "id": "a56db5cf",
   "metadata": {},
   "outputs": [],
   "source": [
    "dequeue()\n",
    "dequeue()"
   ]
  },
  {
   "cell_type": "code",
   "execution_count": 130,
   "id": "a0aeff80",
   "metadata": {},
   "outputs": [
    {
     "name": "stdout",
     "output_type": "stream",
     "text": [
      "3  4  5  "
     ]
    }
   ],
   "source": [
    "display()"
   ]
  },
  {
   "cell_type": "code",
   "execution_count": 131,
   "id": "7f56f396",
   "metadata": {},
   "outputs": [
    {
     "name": "stdout",
     "output_type": "stream",
     "text": [
      "3\n"
     ]
    }
   ],
   "source": [
    "front()"
   ]
  },
  {
   "cell_type": "markdown",
   "id": "97dc4835",
   "metadata": {},
   "source": [
    "# using linked list"
   ]
  },
  {
   "cell_type": "code",
   "execution_count": 154,
   "id": "18ef11b0",
   "metadata": {},
   "outputs": [],
   "source": [
    "class Node:\n",
    "    def __init__(self,data):\n",
    "        self.data = data\n",
    "        self.link = None\n",
    "class Queue:\n",
    "    def __init__(self):\n",
    "        self.front = None\n",
    "        self.rear = None\n",
    "    def enqueue(self,data):\n",
    "        n = Node(data)\n",
    "        if self.front is None and self.rear is None:\n",
    "            self.front = n\n",
    "            self.rear = n\n",
    "        else:\n",
    "            temp = self.rear\n",
    "            temp.link =n\n",
    "            self.rear = n\n",
    "    def dequeue(self):\n",
    "        if self.front is None and self.rear is None:\n",
    "            print(\"Empty\")\n",
    "        elif self.front == self.rear:\n",
    "            self.front = None\n",
    "            self.rear = None\n",
    "        else:\n",
    "            temp = self.front\n",
    "            self.front = temp.link\n",
    "            temp.link = None\n",
    "    def peek(self):\n",
    "        if self.front is None and self.rear is None:\n",
    "            print(\"Empty\")\n",
    "        else:\n",
    "            print(self.front.data)\n",
    "    def display(self):\n",
    "        if self.front is None and self.rear is None:\n",
    "            print(\"Empty\")\n",
    "        else:\n",
    "            temp = self.front\n",
    "            while temp:\n",
    "                print(temp.data,\" \",end=\"\")\n",
    "                temp = temp.link"
   ]
  },
  {
   "cell_type": "code",
   "execution_count": 155,
   "id": "6571be4f",
   "metadata": {},
   "outputs": [],
   "source": [
    "q = Queue()"
   ]
  },
  {
   "cell_type": "code",
   "execution_count": 156,
   "id": "309ea073",
   "metadata": {},
   "outputs": [],
   "source": [
    "q.enqueue(1)\n",
    "q.enqueue(2)\n",
    "q.enqueue(3)\n",
    "q.enqueue(4)\n",
    "q.enqueue(5)"
   ]
  },
  {
   "cell_type": "code",
   "execution_count": 157,
   "id": "8346ad8a",
   "metadata": {},
   "outputs": [
    {
     "name": "stdout",
     "output_type": "stream",
     "text": [
      "1  2  3  4  5  "
     ]
    }
   ],
   "source": [
    "q.display()"
   ]
  },
  {
   "cell_type": "code",
   "execution_count": 158,
   "id": "5af0cd65",
   "metadata": {},
   "outputs": [],
   "source": [
    "q.dequeue()"
   ]
  },
  {
   "cell_type": "code",
   "execution_count": 159,
   "id": "16d0e139",
   "metadata": {},
   "outputs": [
    {
     "name": "stdout",
     "output_type": "stream",
     "text": [
      "2  3  4  5  "
     ]
    }
   ],
   "source": [
    "q.display()"
   ]
  },
  {
   "cell_type": "code",
   "execution_count": 161,
   "id": "8058bb57",
   "metadata": {},
   "outputs": [
    {
     "name": "stdout",
     "output_type": "stream",
     "text": [
      "2\n"
     ]
    }
   ],
   "source": [
    "q.peek()"
   ]
  }
 ],
 "metadata": {
  "kernelspec": {
   "display_name": "Python 3 (ipykernel)",
   "language": "python",
   "name": "python3"
  },
  "language_info": {
   "codemirror_mode": {
    "name": "ipython",
    "version": 3
   },
   "file_extension": ".py",
   "mimetype": "text/x-python",
   "name": "python",
   "nbconvert_exporter": "python",
   "pygments_lexer": "ipython3",
   "version": "3.11.0"
  }
 },
 "nbformat": 4,
 "nbformat_minor": 5
}
